{
 "cells": [
  {
   "cell_type": "code",
   "execution_count": 1,
   "metadata": {},
   "outputs": [],
   "source": [
    "import pandas as pd\n",
    "\n",
    "\n",
    "# determine if sex is a revelant column for predicting species\n",
    "\n",
    "data = pd.read_csv('penguins.csv')\n"
   ]
  },
  {
   "cell_type": "code",
   "execution_count": 4,
   "metadata": {},
   "outputs": [
    {
     "name": "stdout",
     "output_type": "stream",
     "text": [
      "Correlation between species and sex: 0.0110\n",
      "Covariance between species and sex: 0.0049\n"
     ]
    }
   ],
   "source": [
    "# Convert both categorical variables to numeric\n",
    "data['sex_numeric'] = data['sex'].map({'FEMALE': 0, 'MALE': 1})\n",
    "data['species_numeric'] = data['species'].map({'Adelie': 0, 'Chinstrap': 1, 'Gentoo': 2})\n",
    "\n",
    "# Calculate correlation\n",
    "correlation = data['species_numeric'].corr(data['sex_numeric'])\n",
    "print(f\"Correlation between species and sex: {correlation:.4f}\")\n",
    "\n",
    "# covariance\n",
    "covariance = data['species_numeric'].cov(data['sex_numeric'])\n",
    "print(f\"Covariance between species and sex: {covariance:.4f}\")"
   ]
  },
  {
   "cell_type": "code",
   "execution_count": 3,
   "metadata": {},
   "outputs": [
    {
     "data": {
      "text/plain": [
       "species\n",
       "Adelie       152\n",
       "Gentoo       124\n",
       "Chinstrap     68\n",
       "Name: count, dtype: int64"
      ]
     },
     "execution_count": 3,
     "metadata": {},
     "output_type": "execute_result"
    }
   ],
   "source": [
    "data[\"species\"].value_counts()"
   ]
  }
 ],
 "metadata": {
  "kernelspec": {
   "display_name": ".venv",
   "language": "python",
   "name": "python3"
  },
  "language_info": {
   "codemirror_mode": {
    "name": "ipython",
    "version": 3
   },
   "file_extension": ".py",
   "mimetype": "text/x-python",
   "name": "python",
   "nbconvert_exporter": "python",
   "pygments_lexer": "ipython3",
   "version": "3.12.7"
  }
 },
 "nbformat": 4,
 "nbformat_minor": 2
}
